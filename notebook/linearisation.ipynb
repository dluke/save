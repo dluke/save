{
 "cells": [
  {
   "cell_type": "markdown",
   "metadata": {},
   "source": [
    "Linearisation procedure as described by [Fanjin et al.](https://www.pnas.org/content/108/31/12617)."
   ]
  },
  {
   "cell_type": "code",
   "execution_count": 3,
   "metadata": {},
   "outputs": [
    {
     "name": "stdout",
     "output_type": "stream",
     "text": [
      "3.8.3\n"
     ]
    }
   ],
   "source": [
    "from platform import python_version\n",
    "\n",
    "print(python_version())"
   ]
  },
  {
   "cell_type": "code",
   "execution_count": 2,
   "metadata": {},
   "outputs": [],
   "source": [
    "%matplotlib inline\n",
    "%load_ext autoreload\n",
    "%autoreload 2\n",
    "from tqdm import tqdm\n",
    "import os\n",
    "import numpy as np\n",
    "import matplotlib.pyplot as plt\n",
    "import _fj\n",
    "import shapeplot\n",
    "import plotutils\n",
    "import twutils\n",
    "import command"
   ]
  },
  {
   "cell_type": "code",
   "execution_count": 3,
   "metadata": {},
   "outputs": [],
   "source": [
    "# example simulated data\n",
    "notename = 'linearisation'\n",
    "notedir = os.getcwd()\n",
    "simdir = os.path.join(notedir, \"exampledata/two_parameters/pilivar_0013.00000_k_spawn_05.00000/\")\n",
    "simdata = os.path.join(simdir, \"data/\")\n",
    "fjdir = os.path.join(notedir, \"~/usb_twitching/fanjin/working_copy\")\n",
    "pdir = notename+'/'"
   ]
  },
  {
   "cell_type": "code",
   "execution_count": null,
   "metadata": {
    "lines_to_next_cell": 0
   },
   "outputs": [],
   "source": [
    "debug = 100\n",
    "debug = None\n",
    "# idx, fjtrs = _fj.slicehelper.load_trs('default_crawling_list', debug)\n",
    "idx, fltrs = _fj.slicehelper.load_linearized_trs('default_crawling_list', debug)"
   ]
  },
  {
   "cell_type": "code",
   "execution_count": null,
   "metadata": {
    "lines_to_next_cell": 0
   },
   "outputs": [],
   "source": [
    "# assigns a member variable tr.step_idx\n",
    "# load this directly\n",
    "# fltrs = [_fj.linearize(tr) for tr in tqdm(fjtrs)]"
   ]
  },
  {
   "cell_type": "code",
   "execution_count": null,
   "metadata": {
    "lines_to_next_cell": 0
   },
   "outputs": [],
   "source": [
    "print('{} tracks'.format(idx.size))\n",
    "step_n_s = [np.diff(ltr.step_idx) for ltr in fltrs]\n",
    "# will be nan if N segments is 0 \n",
    "step_n_mean_s = np.array([np.mean(step_n) for step_n in step_n_s])\n",
    "N_s = np.array([l.size for l in step_n_s])\n",
    "N = np.mean(N_s)\n",
    "step_n_mean = np.mean(step_n_mean_s)"
   ]
  },
  {
   "cell_type": "code",
   "execution_count": null,
   "metadata": {
    "lines_to_next_cell": 0
   },
   "outputs": [],
   "source": [
    "# distribution of mean number of segments\n",
    "ax = plt.gca()\n",
    "vstyle = {'linestyle':'--', 'linewidth':2, 'color':'k'}\n",
    "def plot_N_s(ax):\n",
    "    ax.hist(np.array(N_s), bins=20, density=True)\n",
    "    print('plotting N_s')\n",
    "    print('mean ', N)\n",
    "    print('lims ', np.min(N_s), np.max(N_s))\n",
    "    data_threshold = 20\n",
    "    low_idx = idx[N_s < data_threshold]\n",
    "    print('with less than {} segments {}/{}'.format(data_threshold, low_idx.size, idx.size))\n",
    "    ax.set_ylabel('P')\n",
    "    ax.set_xlabel(r'N linearized segments (per track)')\n",
    "    ax.axvline(N, label='mean', **vstyle)\n",
    "    command.saveplt('N_s', pdir)\n",
    "plot_N_s(ax)\n",
    "plt.show()"
   ]
  },
  {
   "cell_type": "code",
   "execution_count": null,
   "metadata": {},
   "outputs": [],
   "source": [
    "# distribution of segment-timesreload(plotutils)\n",
    "ax = plt.gca()\n",
    "import matdef\n",
    "s_time_m = matdef.TIMESTEP * step_n_mean_s\n",
    "s_time_m_cut = twutils.trim_tail(s_time_m, 0.01)\n",
    "def plot_mean_segment_tau(ax):\n",
    "    print('plotting mean segment-time distribution')\n",
    "    print('mean', np.nanmean(s_time_m_cut))\n",
    "    print('lims ', np.nanmin(s_time_m_cut), np.nanmax(s_time_m))\n",
    "    plotutils.ax_kdeplot(ax, s_time_m_cut, res=40, hist=True)\n",
    "    ax.set_xlabel(r'mean segment $\\tau$ per track (s)')\n",
    "    ax.set_ylabel('P')\n",
    "    command.saveplt('mean_segment_tau', pdir)\n",
    "plot_mean_segment_tau(ax)\n",
    "plt.show()"
   ]
  },
  {
   "cell_type": "code",
   "execution_count": null,
   "metadata": {
    "lines_to_next_cell": 2
   },
   "outputs": [],
   "source": [
    "# pull out some 'random' tracks that have good data \n",
    "ax = plt.gca()\n",
    "def plot_individual_tau(ax):\n",
    "    data_threshold = 100\n",
    "    low = np.nanquantile(s_time_m, 0.25)\n",
    "    high = np.nanquantile(s_time_m, 0.75)\n",
    "    tau_condition = np.logical_and(s_time_m > low, s_time_m < high)\n",
    "    good_snm_idx = np.nonzero(np.logical_and(N_s > data_threshold, tau_condition))[0]\n",
    "    request_n = 10\n",
    "    res = 100\n",
    "    for i in good_snm_idx[:request_n]:\n",
    "        stat = matdef.TIMESTEP * step_n_s[i]\n",
    "        plotutils.ax_kdeplot(ax, stat, res=res)\n",
    "    ax.set_xlabel(r'$\\Delta t$ of segments')\n",
    "    ax.set_ylabel(r'P')\n",
    "plot_individual_tau(ax)\n",
    "plt.show()"
   ]
  },
  {
   "cell_type": "code",
   "execution_count": null,
   "metadata": {},
   "outputs": [],
   "source": [
    "# Run the same for simulation data\n",
    "import readtrack\n",
    "trs = readtrack.trackset(ddir=simdata)\n",
    "ltrs = [_fj.linearize(tr) for tr in trs]\n",
    "print('{} simulated tracks'.format(len(ltrs)))"
   ]
  },
  {
   "cell_type": "code",
   "execution_count": null,
   "metadata": {
    "lines_to_next_cell": 2
   },
   "outputs": [],
   "source": [
    "step_n_s = [np.diff(ltr.step_idx) for ltr in ltrs]\n",
    "N_s = [l.size for l in step_n_s]\n",
    "N = np.mean(N_s)\n",
    "def _compute_s_time(ltr):\n",
    "    t_cut = ltr['time'][ltr.step_idx]\n",
    "    return t_cut[1:] - t_cut[:-1]\n",
    "s_time = [_compute_s_time(ltr) for ltr in ltrs]\n",
    "s_time_all = np.concatenate(s_time)"
   ]
  },
  {
   "cell_type": "code",
   "execution_count": null,
   "metadata": {
    "lines_to_next_cell": 0
   },
   "outputs": [],
   "source": [
    "# plot simulated s_time distribution\n",
    "ax = plt.gca()\n",
    "# s_time_cut = s_time_all\n",
    "s_time_cut = twutils.trim_tail(s_time_all, 0.02)\n",
    "res = 100\n",
    "plotutils.ax_kdeplot(ax, s_time_cut, res=100, hist=True)\n",
    "s_time_median = np.median(s_time_all)\n",
    "#\n",
    "ax.axvline(s_time_median, **vstyle)\n",
    "ax.set_xlabel(r'$\\Delta t$ of segments')\n",
    "ax.set_ylabel(r'P')\n",
    "print('median ', s_time_median)\n",
    "# ax.annotate('{:4.2f}'.format(s_time_median), ())\n",
    "command.saveplt('simulated_segment_time', pdir)\n",
    "plt.show()"
   ]
  },
  {
   "cell_type": "markdown",
   "metadata": {
    "lines_to_next_cell": 0
   },
   "source": [
    "For this simulated data sharply, segment times are sharply distributed.\n",
    "It might be useful to check <ntaut> and for what proportion of our trajectory do we have <ntaut> = 0."
   ]
  },
  {
   "cell_type": "code",
   "execution_count": null,
   "metadata": {},
   "outputs": [],
   "source": [
    "# import eventanalyse\n",
    "# with command.chdir(simdir):\n",
    "    # sdata = eventanalyse.lifetime()\n",
    "def _have_taut_prop(tr):\n",
    "    return 1.0 - np.count_nonzero(tr['ntaut'] == 0)/tr.size\n",
    "taut_prop = np.mean([_have_taut_prop(tr) for tr in ltrs])\n",
    "print('taut_prop', taut_prop)\n",
    "print('< ntaut >', np.mean([np.mean(tr['ntaut']) for tr in ltrs]))"
   ]
  },
  {
   "cell_type": "markdown",
   "metadata": {},
   "source": [
    "We see a large spike at $\\Delta t = 0.2$ which is to be expected since the segementation distance is 0.12 $\\mu m$\n",
    "and the retraction velocity is 0.75 $\\mu s^{-1}$ so bacteria can typically displace by 0.15 $\\mu m$ in 0.2s."
   ]
  }
 ],
 "metadata": {
  "jupytext": {
   "formats": "ipynb,py:percent"
  },
  "kernelspec": {
   "display_name": "Python 3",
   "language": "python",
   "name": "python3"
  },
  "language_info": {
   "codemirror_mode": {
    "name": "ipython",
    "version": 3
   },
   "file_extension": ".py",
   "mimetype": "text/x-python",
   "name": "python",
   "nbconvert_exporter": "python",
   "pygments_lexer": "ipython3",
   "version": "3.8.3"
  }
 },
 "nbformat": 4,
 "nbformat_minor": 4
}
